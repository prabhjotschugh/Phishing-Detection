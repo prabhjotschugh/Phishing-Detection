{
 "cells": [
  {
   "cell_type": "markdown",
   "id": "moral-trunk",
   "metadata": {
    "execution": {
     "iopub.execute_input": "2021-06-28T07:20:51.028601Z",
     "iopub.status.busy": "2021-06-28T07:20:51.027869Z",
     "iopub.status.idle": "2021-06-28T07:20:51.039995Z",
     "shell.execute_reply": "2021-06-28T07:20:51.038853Z",
     "shell.execute_reply.started": "2021-06-28T07:20:51.028451Z"
    },
    "papermill": {
     "duration": 0.025599,
     "end_time": "2021-06-29T16:57:06.488927",
     "exception": false,
     "start_time": "2021-06-29T16:57:06.463328",
     "status": "completed"
    },
    "tags": []
   },
   "source": [
    "### Phishing Detection🕵\n",
    "**What is Phishing ?**\n",
    "\n",
    "It is a form of fraud in which the attacker tries to learn sensitive information such as login credentials or account information by pretending as a reputable entity or person via email or other communication channel means\n",
    "\n",
    "Phishing is popular among attackers, since it is easier to trick someone into clicking a malicious link which seems legitimate\n",
    "\n",
    "The **URL** of phishing websites may be **very similar to real websites** to the human eye, but they are different in IP. "
   ]
  },
  {
   "cell_type": "markdown",
   "id": "entertaining-preservation",
   "metadata": {
    "papermill": {
     "duration": 0.025814,
     "end_time": "2021-06-29T16:57:06.540403",
     "exception": false,
     "start_time": "2021-06-29T16:57:06.514589",
     "status": "completed"
    },
    "tags": []
   },
   "source": [
    "#### URL Basics\n",
    "\n",
    "![URL Structure](https://i.imgur.com/elrD4Vl.png)\n",
    "\n",
    "* **Domain name** portion is constrained since it has to be registered with a domain name Registrar\n",
    "* **Subdomain name** and **Path** are fully controllable by the phisher"
   ]
  },
  {
   "cell_type": "markdown",
   "id": "valuable-exception",
   "metadata": {
    "papermill": {
     "duration": 0.025126,
     "end_time": "2021-06-29T16:57:06.591203",
     "exception": false,
     "start_time": "2021-06-29T16:57:06.566077",
     "status": "completed"
    },
    "tags": []
   },
   "source": [
    "### Phishing dataset Exploration"
   ]
  },
  {
   "cell_type": "code",
   "execution_count": 1,
   "id": "juvenile-flexibility",
   "metadata": {
    "_kg_hide-input": true,
    "execution": {
     "iopub.execute_input": "2021-06-29T16:57:06.666364Z",
     "iopub.status.busy": "2021-06-29T16:57:06.665641Z",
     "iopub.status.idle": "2021-06-29T16:57:08.865678Z",
     "shell.execute_reply": "2021-06-29T16:57:08.866202Z",
     "shell.execute_reply.started": "2021-06-28T14:30:45.645384Z"
    },
    "papermill": {
     "duration": 2.244625,
     "end_time": "2021-06-29T16:57:08.866508",
     "exception": false,
     "start_time": "2021-06-29T16:57:06.621883",
     "status": "completed"
    },
    "tags": []
   },
   "outputs": [],
   "source": [
    "import os\n",
    "import numpy as np \n",
    "import pandas as pd \n",
    "import matplotlib.pyplot as plt\n",
    "import seaborn as sns\n",
    "from matplotlib.patches import Patch\n",
    "\n",
    "from sklearn.model_selection import train_test_split\n",
    "from sklearn.preprocessing import StandardScaler\n",
    "from sklearn import preprocessing\n",
    "from sklearn.metrics import f1_score as f1\n",
    "from sklearn.metrics import confusion_matrix\n",
    "from sklearn.metrics import *\n",
    "\n",
    "import torch\n",
    "import torch.nn as nn\n",
    "from torch.utils.data import TensorDataset\n",
    "from torch.utils.data import DataLoader\n",
    "\n",
    "import warnings\n",
    "warnings.simplefilter(action='ignore', category=FutureWarning)"
   ]
  },
  {
   "cell_type": "code",
   "execution_count": 2,
   "id": "grave-taste",
   "metadata": {
    "execution": {
     "iopub.execute_input": "2021-06-29T16:57:08.922541Z",
     "iopub.status.busy": "2021-06-29T16:57:08.921858Z",
     "iopub.status.idle": "2021-06-29T16:57:09.165533Z",
     "shell.execute_reply": "2021-06-29T16:57:09.166014Z",
     "shell.execute_reply.started": "2021-06-28T14:30:45.772333Z"
    },
    "papermill": {
     "duration": 0.273795,
     "end_time": "2021-06-29T16:57:09.166241",
     "exception": false,
     "start_time": "2021-06-29T16:57:08.892446",
     "status": "completed"
    },
    "tags": []
   },
   "outputs": [
    {
     "data": {
      "text/plain": [
       "(11430, 89)"
      ]
     },
     "execution_count": 2,
     "metadata": {},
     "output_type": "execute_result"
    }
   ],
   "source": [
    "df_data = pd.read_csv(\"dataset_phishing.csv\")\n",
    "df_data.shape"
   ]
  },
  {
   "cell_type": "code",
   "execution_count": 3,
   "id": "signal-gabriel",
   "metadata": {
    "execution": {
     "iopub.execute_input": "2021-06-29T16:57:09.222651Z",
     "iopub.status.busy": "2021-06-29T16:57:09.221978Z",
     "iopub.status.idle": "2021-06-29T16:57:09.252357Z",
     "shell.execute_reply": "2021-06-29T16:57:09.252843Z",
     "shell.execute_reply.started": "2021-06-28T14:30:45.900747Z"
    },
    "papermill": {
     "duration": 0.060113,
     "end_time": "2021-06-29T16:57:09.253009",
     "exception": false,
     "start_time": "2021-06-29T16:57:09.192896",
     "status": "completed"
    },
    "tags": []
   },
   "outputs": [
    {
     "data": {
      "text/html": [
       "<div>\n",
       "<style scoped>\n",
       "    .dataframe tbody tr th:only-of-type {\n",
       "        vertical-align: middle;\n",
       "    }\n",
       "\n",
       "    .dataframe tbody tr th {\n",
       "        vertical-align: top;\n",
       "    }\n",
       "\n",
       "    .dataframe thead th {\n",
       "        text-align: right;\n",
       "    }\n",
       "</style>\n",
       "<table border=\"1\" class=\"dataframe\">\n",
       "  <thead>\n",
       "    <tr style=\"text-align: right;\">\n",
       "      <th></th>\n",
       "      <th>url</th>\n",
       "      <th>length_url</th>\n",
       "      <th>length_hostname</th>\n",
       "      <th>ip</th>\n",
       "      <th>nb_dots</th>\n",
       "      <th>nb_hyphens</th>\n",
       "      <th>nb_at</th>\n",
       "      <th>nb_qm</th>\n",
       "      <th>nb_and</th>\n",
       "      <th>nb_or</th>\n",
       "      <th>...</th>\n",
       "      <th>domain_in_title</th>\n",
       "      <th>domain_with_copyright</th>\n",
       "      <th>whois_registered_domain</th>\n",
       "      <th>domain_registration_length</th>\n",
       "      <th>domain_age</th>\n",
       "      <th>web_traffic</th>\n",
       "      <th>dns_record</th>\n",
       "      <th>google_index</th>\n",
       "      <th>page_rank</th>\n",
       "      <th>status</th>\n",
       "    </tr>\n",
       "  </thead>\n",
       "  <tbody>\n",
       "    <tr>\n",
       "      <th>0</th>\n",
       "      <td>http://www.crestonwood.com/router.php</td>\n",
       "      <td>37</td>\n",
       "      <td>19</td>\n",
       "      <td>0</td>\n",
       "      <td>3</td>\n",
       "      <td>0</td>\n",
       "      <td>0</td>\n",
       "      <td>0</td>\n",
       "      <td>0</td>\n",
       "      <td>0</td>\n",
       "      <td>...</td>\n",
       "      <td>0</td>\n",
       "      <td>1</td>\n",
       "      <td>0</td>\n",
       "      <td>45</td>\n",
       "      <td>-1</td>\n",
       "      <td>0</td>\n",
       "      <td>1</td>\n",
       "      <td>1</td>\n",
       "      <td>4</td>\n",
       "      <td>legitimate</td>\n",
       "    </tr>\n",
       "    <tr>\n",
       "      <th>1</th>\n",
       "      <td>http://shadetreetechnology.com/V4/validation/a...</td>\n",
       "      <td>77</td>\n",
       "      <td>23</td>\n",
       "      <td>1</td>\n",
       "      <td>1</td>\n",
       "      <td>0</td>\n",
       "      <td>0</td>\n",
       "      <td>0</td>\n",
       "      <td>0</td>\n",
       "      <td>0</td>\n",
       "      <td>...</td>\n",
       "      <td>1</td>\n",
       "      <td>0</td>\n",
       "      <td>0</td>\n",
       "      <td>77</td>\n",
       "      <td>5767</td>\n",
       "      <td>0</td>\n",
       "      <td>0</td>\n",
       "      <td>1</td>\n",
       "      <td>2</td>\n",
       "      <td>phishing</td>\n",
       "    </tr>\n",
       "    <tr>\n",
       "      <th>2</th>\n",
       "      <td>https://support-appleld.com.secureupdate.duila...</td>\n",
       "      <td>126</td>\n",
       "      <td>50</td>\n",
       "      <td>1</td>\n",
       "      <td>4</td>\n",
       "      <td>1</td>\n",
       "      <td>0</td>\n",
       "      <td>1</td>\n",
       "      <td>2</td>\n",
       "      <td>0</td>\n",
       "      <td>...</td>\n",
       "      <td>1</td>\n",
       "      <td>0</td>\n",
       "      <td>0</td>\n",
       "      <td>14</td>\n",
       "      <td>4004</td>\n",
       "      <td>5828815</td>\n",
       "      <td>0</td>\n",
       "      <td>1</td>\n",
       "      <td>0</td>\n",
       "      <td>phishing</td>\n",
       "    </tr>\n",
       "    <tr>\n",
       "      <th>3</th>\n",
       "      <td>http://rgipt.ac.in</td>\n",
       "      <td>18</td>\n",
       "      <td>11</td>\n",
       "      <td>0</td>\n",
       "      <td>2</td>\n",
       "      <td>0</td>\n",
       "      <td>0</td>\n",
       "      <td>0</td>\n",
       "      <td>0</td>\n",
       "      <td>0</td>\n",
       "      <td>...</td>\n",
       "      <td>1</td>\n",
       "      <td>0</td>\n",
       "      <td>0</td>\n",
       "      <td>62</td>\n",
       "      <td>-1</td>\n",
       "      <td>107721</td>\n",
       "      <td>0</td>\n",
       "      <td>0</td>\n",
       "      <td>3</td>\n",
       "      <td>legitimate</td>\n",
       "    </tr>\n",
       "    <tr>\n",
       "      <th>4</th>\n",
       "      <td>http://www.iracing.com/tracks/gateway-motorspo...</td>\n",
       "      <td>55</td>\n",
       "      <td>15</td>\n",
       "      <td>0</td>\n",
       "      <td>2</td>\n",
       "      <td>2</td>\n",
       "      <td>0</td>\n",
       "      <td>0</td>\n",
       "      <td>0</td>\n",
       "      <td>0</td>\n",
       "      <td>...</td>\n",
       "      <td>0</td>\n",
       "      <td>1</td>\n",
       "      <td>0</td>\n",
       "      <td>224</td>\n",
       "      <td>8175</td>\n",
       "      <td>8725</td>\n",
       "      <td>0</td>\n",
       "      <td>0</td>\n",
       "      <td>6</td>\n",
       "      <td>legitimate</td>\n",
       "    </tr>\n",
       "  </tbody>\n",
       "</table>\n",
       "<p>5 rows × 89 columns</p>\n",
       "</div>"
      ],
      "text/plain": [
       "                                                 url  length_url  \\\n",
       "0              http://www.crestonwood.com/router.php          37   \n",
       "1  http://shadetreetechnology.com/V4/validation/a...          77   \n",
       "2  https://support-appleld.com.secureupdate.duila...         126   \n",
       "3                                 http://rgipt.ac.in          18   \n",
       "4  http://www.iracing.com/tracks/gateway-motorspo...          55   \n",
       "\n",
       "   length_hostname  ip  nb_dots  nb_hyphens  nb_at  nb_qm  nb_and  nb_or  ...  \\\n",
       "0               19   0        3           0      0      0       0      0  ...   \n",
       "1               23   1        1           0      0      0       0      0  ...   \n",
       "2               50   1        4           1      0      1       2      0  ...   \n",
       "3               11   0        2           0      0      0       0      0  ...   \n",
       "4               15   0        2           2      0      0       0      0  ...   \n",
       "\n",
       "   domain_in_title  domain_with_copyright  whois_registered_domain  \\\n",
       "0                0                      1                        0   \n",
       "1                1                      0                        0   \n",
       "2                1                      0                        0   \n",
       "3                1                      0                        0   \n",
       "4                0                      1                        0   \n",
       "\n",
       "   domain_registration_length  domain_age  web_traffic  dns_record  \\\n",
       "0                          45          -1            0           1   \n",
       "1                          77        5767            0           0   \n",
       "2                          14        4004      5828815           0   \n",
       "3                          62          -1       107721           0   \n",
       "4                         224        8175         8725           0   \n",
       "\n",
       "   google_index  page_rank      status  \n",
       "0             1          4  legitimate  \n",
       "1             1          2    phishing  \n",
       "2             1          0    phishing  \n",
       "3             0          3  legitimate  \n",
       "4             0          6  legitimate  \n",
       "\n",
       "[5 rows x 89 columns]"
      ]
     },
     "execution_count": 3,
     "metadata": {},
     "output_type": "execute_result"
    }
   ],
   "source": [
    "df_data.head(5)"
   ]
  },
  {
   "cell_type": "markdown",
   "id": "clear-newark",
   "metadata": {
    "papermill": {
     "duration": 0.026529,
     "end_time": "2021-06-29T16:57:09.307070",
     "exception": false,
     "start_time": "2021-06-29T16:57:09.280541",
     "status": "completed"
    },
    "tags": []
   },
   "source": [
    "#### Quick Observations\n",
    "* **URL** itself is present as a field\n",
    "* Target Variable is : **status** with \n",
    "    * legitimate (considered as Label 1)\n",
    "    * phishing   (considered as Label 0)\n",
    "* **87 Features** around URL , **all Numerical** ,are from three different classes\n",
    "    * 56 extracted from the Structure and Syntax of URLs (fields starting with : *nb_* , *shortest/longest* , *ratio/length* etc)\n",
    "    * 24 extracted from the Content of their correspondent pages \n",
    "    * 7 are extracted by querying External Services"
   ]
  },
  {
   "cell_type": "code",
   "execution_count": 4,
   "id": "middle-medication",
   "metadata": {
    "execution": {
     "iopub.execute_input": "2021-06-29T16:57:09.363873Z",
     "iopub.status.busy": "2021-06-29T16:57:09.363255Z",
     "iopub.status.idle": "2021-06-29T16:57:09.393564Z",
     "shell.execute_reply": "2021-06-29T16:57:09.392903Z",
     "shell.execute_reply.started": "2021-06-28T14:30:45.92654Z"
    },
    "papermill": {
     "duration": 0.059631,
     "end_time": "2021-06-29T16:57:09.393702",
     "exception": false,
     "start_time": "2021-06-29T16:57:09.334071",
     "status": "completed"
    },
    "tags": []
   },
   "outputs": [
    {
     "data": {
      "text/html": [
       "<div>\n",
       "<style scoped>\n",
       "    .dataframe tbody tr th:only-of-type {\n",
       "        vertical-align: middle;\n",
       "    }\n",
       "\n",
       "    .dataframe tbody tr th {\n",
       "        vertical-align: top;\n",
       "    }\n",
       "\n",
       "    .dataframe thead th {\n",
       "        text-align: right;\n",
       "    }\n",
       "</style>\n",
       "<table border=\"1\" class=\"dataframe\">\n",
       "  <thead>\n",
       "    <tr style=\"text-align: right;\">\n",
       "      <th></th>\n",
       "      <th>url</th>\n",
       "      <th>target</th>\n",
       "    </tr>\n",
       "  </thead>\n",
       "  <tbody>\n",
       "    <tr>\n",
       "      <th>0</th>\n",
       "      <td>http://www.crestonwood.com/router.php</td>\n",
       "      <td>1</td>\n",
       "    </tr>\n",
       "    <tr>\n",
       "      <th>1</th>\n",
       "      <td>http://shadetreetechnology.com/V4/validation/a...</td>\n",
       "      <td>0</td>\n",
       "    </tr>\n",
       "    <tr>\n",
       "      <th>2</th>\n",
       "      <td>https://support-appleld.com.secureupdate.duila...</td>\n",
       "      <td>0</td>\n",
       "    </tr>\n",
       "    <tr>\n",
       "      <th>3</th>\n",
       "      <td>http://rgipt.ac.in</td>\n",
       "      <td>1</td>\n",
       "    </tr>\n",
       "    <tr>\n",
       "      <th>4</th>\n",
       "      <td>http://www.iracing.com/tracks/gateway-motorspo...</td>\n",
       "      <td>1</td>\n",
       "    </tr>\n",
       "  </tbody>\n",
       "</table>\n",
       "</div>"
      ],
      "text/plain": [
       "                                                 url  target\n",
       "0              http://www.crestonwood.com/router.php       1\n",
       "1  http://shadetreetechnology.com/V4/validation/a...       0\n",
       "2  https://support-appleld.com.secureupdate.duila...       0\n",
       "3                                 http://rgipt.ac.in       1\n",
       "4  http://www.iracing.com/tracks/gateway-motorspo...       1"
      ]
     },
     "execution_count": 4,
     "metadata": {},
     "output_type": "execute_result"
    }
   ],
   "source": [
    "#Encoding 'status' as label 1 & 0 , naming the field as target\n",
    "df_data['target'] = pd.get_dummies(df_data['status'])['legitimate'].astype('int')\n",
    "df_data.drop('status',axis = 1, inplace=True)\n",
    "df_data[['url','target']].head(5)"
   ]
  },
  {
   "cell_type": "markdown",
   "id": "attempted-hamburg",
   "metadata": {
    "papermill": {
     "duration": 0.026701,
     "end_time": "2021-06-29T16:57:09.447841",
     "exception": false,
     "start_time": "2021-06-29T16:57:09.421140",
     "status": "completed"
    },
    "tags": []
   },
   "source": [
    "**No Missing values in the dataset**"
   ]
  },
  {
   "cell_type": "code",
   "execution_count": 5,
   "id": "outside-referral",
   "metadata": {
    "execution": {
     "iopub.execute_input": "2021-06-29T16:57:09.507963Z",
     "iopub.status.busy": "2021-06-29T16:57:09.507342Z",
     "iopub.status.idle": "2021-06-29T16:57:09.536502Z",
     "shell.execute_reply": "2021-06-29T16:57:09.535845Z",
     "shell.execute_reply.started": "2021-06-28T14:30:45.966896Z"
    },
    "papermill": {
     "duration": 0.061713,
     "end_time": "2021-06-29T16:57:09.536642",
     "exception": false,
     "start_time": "2021-06-29T16:57:09.474929",
     "status": "completed"
    },
    "tags": []
   },
   "outputs": [
    {
     "data": {
      "text/html": [
       "<div>\n",
       "<style scoped>\n",
       "    .dataframe tbody tr th:only-of-type {\n",
       "        vertical-align: middle;\n",
       "    }\n",
       "\n",
       "    .dataframe tbody tr th {\n",
       "        vertical-align: top;\n",
       "    }\n",
       "\n",
       "    .dataframe thead th {\n",
       "        text-align: right;\n",
       "    }\n",
       "</style>\n",
       "<table border=\"1\" class=\"dataframe\">\n",
       "  <thead>\n",
       "    <tr style=\"text-align: right;\">\n",
       "      <th></th>\n",
       "      <th>index</th>\n",
       "      <th>missing_val</th>\n",
       "    </tr>\n",
       "  </thead>\n",
       "  <tbody>\n",
       "  </tbody>\n",
       "</table>\n",
       "</div>"
      ],
      "text/plain": [
       "Empty DataFrame\n",
       "Columns: [index, missing_val]\n",
       "Index: []"
      ]
     },
     "execution_count": 5,
     "metadata": {},
     "output_type": "execute_result"
    }
   ],
   "source": [
    "tmp = df_data.isnull().sum().reset_index(name='missing_val')\n",
    "tmp[tmp['missing_val']!= 0]"
   ]
  },
  {
   "cell_type": "markdown",
   "id": "destroyed-genre",
   "metadata": {
    "papermill": {
     "duration": 0.027179,
     "end_time": "2021-06-29T16:57:09.591514",
     "exception": false,
     "start_time": "2021-06-29T16:57:09.564335",
     "status": "completed"
    },
    "tags": []
   },
   "source": [
    "**Idenitfying Categorical columns** : If column has unique values lower than 0.002% of total records then categorizing it as Categorical"
   ]
  },
  {
   "cell_type": "code",
   "execution_count": 6,
   "id": "excellent-chrome",
   "metadata": {
    "execution": {
     "iopub.execute_input": "2021-06-29T16:57:09.659636Z",
     "iopub.status.busy": "2021-06-29T16:57:09.657566Z",
     "iopub.status.idle": "2021-06-29T16:57:09.705009Z",
     "shell.execute_reply": "2021-06-29T16:57:09.704334Z",
     "shell.execute_reply.started": "2021-06-28T14:30:45.983866Z"
    },
    "papermill": {
     "duration": 0.085294,
     "end_time": "2021-06-29T16:57:09.705170",
     "exception": false,
     "start_time": "2021-06-29T16:57:09.619876",
     "status": "completed"
    },
    "tags": []
   },
   "outputs": [],
   "source": [
    "likely_cat = {}\n",
    "for var in df_data.iloc[:,1:].columns:\n",
    "    likely_cat[var] = 1.*df_data[var].nunique()/df_data[var].count() < 0.002 \n",
    "\n",
    "num_cols = []\n",
    "cat_cols = []\n",
    "for col in likely_cat.keys():\n",
    "    if (likely_cat[col] == False):\n",
    "        num_cols.append(col)\n",
    "    else:\n",
    "        cat_cols.append(col)\n"
   ]
  },
  {
   "cell_type": "markdown",
   "id": "floppy-container",
   "metadata": {
    "papermill": {
     "duration": 0.027072,
     "end_time": "2021-06-29T16:57:09.760174",
     "exception": false,
     "start_time": "2021-06-29T16:57:09.733102",
     "status": "completed"
    },
    "tags": []
   },
   "source": [
    "#### Correlation Plot for the Numerical(continuous) features\n"
   ]
  },
  {
   "cell_type": "code",
   "execution_count": 7,
   "id": "compact-jacob",
   "metadata": {
    "_kg_hide-input": true,
    "execution": {
     "iopub.execute_input": "2021-06-29T16:57:09.823944Z",
     "iopub.status.busy": "2021-06-29T16:57:09.823252Z",
     "iopub.status.idle": "2021-06-29T16:57:10.957281Z",
     "shell.execute_reply": "2021-06-29T16:57:10.956738Z",
     "shell.execute_reply.started": "2021-06-28T14:30:46.036066Z"
    },
    "papermill": {
     "duration": 1.170042,
     "end_time": "2021-06-29T16:57:10.957429",
     "exception": false,
     "start_time": "2021-06-29T16:57:09.787387",
     "status": "completed"
    },
    "tags": []
   },
   "outputs": [
    {
     "data": {
      "image/png": "[encoded data removed]",
      "text/plain": [
       "<Figure size 960x960 with 2 Axes>"
      ]
     },
     "metadata": {
      "needs_background": "light"
     },
     "output_type": "display_data"
    }
   ],
   "source": [
    "#Taking all columns except URL \n",
    "corr = df_data[num_cols].corr()\n",
    "\n",
    "fig = plt.figure(figsize=(12,12),dpi=80)\n",
    "mask = np.triu(np.ones_like(corr, dtype=bool))\n",
    "sns.heatmap(corr, mask=mask, cmap='BuPu', robust=True, center=0,\n",
    "            square=True, linewidths=.5)\n",
    "plt.title('Correlation of Numerical(Continous) Features', fontsize=15,font=\"Serif\")\n",
    "plt.show()"
   ]
  },
  {
   "cell_type": "markdown",
   "id": "miniature-cable",
   "metadata": {
    "papermill": {
     "duration": 0.030481,
     "end_time": "2021-06-29T16:57:11.018858",
     "exception": false,
     "start_time": "2021-06-29T16:57:10.988377",
     "status": "completed"
    },
    "tags": []
   },
   "source": [
    "**Observations** :Few highly correlated features as one would expect.Nothing jumps out extraordinary here.\n",
    "\n",
    "*length_words_raw* is expected to be highly correlated with *length_url* . Similar behaviour for other correlated feature pairs\n"
   ]
  },
  {
   "cell_type": "markdown",
   "id": "sporting-blame",
   "metadata": {
    "papermill": {
     "duration": 0.030533,
     "end_time": "2021-06-29T16:57:11.079266",
     "exception": false,
     "start_time": "2021-06-29T16:57:11.048733",
     "status": "completed"
    },
    "tags": []
   },
   "source": [
    "#### Distribution of Mean values of the Numerical features across Target variable"
   ]
  },
  {
   "cell_type": "code",
   "execution_count": 8,
   "id": "downtown-perfume",
   "metadata": {
    "execution": {
     "iopub.execute_input": "2021-06-29T16:57:11.151631Z",
     "iopub.status.busy": "2021-06-29T16:57:11.150869Z",
     "iopub.status.idle": "2021-06-29T16:57:11.681206Z",
     "shell.execute_reply": "2021-06-29T16:57:11.681666Z",
     "shell.execute_reply.started": "2021-06-28T14:30:47.246012Z"
    },
    "papermill": {
     "duration": 0.57179,
     "end_time": "2021-06-29T16:57:11.681858",
     "exception": false,
     "start_time": "2021-06-29T16:57:11.110068",
     "status": "completed"
    },
    "tags": []
   },
   "outputs": [
    {
     "data": {
      "image/png": "[encoded data removed]",
      "text/plain": [
       "<Figure size 864x576 with 1 Axes>"
      ]
     },
     "metadata": {
      "needs_background": "light"
     },
     "output_type": "display_data"
    }
   ],
   "source": [
    "df_distr =df_data.groupby('target')[num_cols].mean().reset_index().T\n",
    "df_distr.rename(columns={0:'0_Label',1:\"1_Label\"}, inplace=True)\n",
    "\n",
    "#plt.style.use('ggplot')\n",
    "plt.rcParams['axes.facecolor']='w'\n",
    "ax = df_distr[1:-3][['0_Label','1_Label']].plot(kind='bar', title =\"Distribution of Average values across Target\", figsize=(12, 8), legend=True, fontsize=12)\n",
    "ax.set_xlabel(\"Numerical Features\", fontsize=14)\n",
    "ax.set_ylabel(\"Average Values\", fontsize=14)\n",
    "#ax.set_ylim(0,500000)\n",
    "plt.show()"
   ]
  },
  {
   "cell_type": "markdown",
   "id": "reflected-minutes",
   "metadata": {
    "papermill": {
     "duration": 0.032699,
     "end_time": "2021-06-29T16:57:11.749184",
     "exception": false,
     "start_time": "2021-06-29T16:57:11.716485",
     "status": "completed"
    },
    "tags": []
   },
   "source": [
    "**Observations**\n",
    "\n",
    "* Higher the length of URL ,or words in URL then more likely to be *Phishing* URL\n",
    "* Clear distinctive pattern of *nb_links* field.Higher implies *Legitimate* URL\n",
    "* *links_in_tags ,safe_anchor*  higher volume signals more towards *Legitmate* site\n"
   ]
  },
  {
   "cell_type": "markdown",
   "id": "composite-figure",
   "metadata": {
    "papermill": {
     "duration": 0.031265,
     "end_time": "2021-06-29T16:57:11.812331",
     "exception": false,
     "start_time": "2021-06-29T16:57:11.781066",
     "status": "completed"
    },
    "tags": []
   },
   "source": [
    "**Exploring Page Ranks feature w.r.t Target variable**\n",
    "\n",
    "* Legitimate URLs form more of a gaussian distribution as the ranking increases , whereas the Phishing ones present a right skewed distribution.Presence of differentiating patterns here"
   ]
  },
  {
   "cell_type": "code",
   "execution_count": 9,
   "id": "neural-opening",
   "metadata": {
    "_kg_hide-input": true,
    "execution": {
     "iopub.execute_input": "2021-06-29T16:57:11.881290Z",
     "iopub.status.busy": "2021-06-29T16:57:11.880007Z",
     "iopub.status.idle": "2021-06-29T16:57:12.358909Z",
     "shell.execute_reply": "2021-06-29T16:57:12.359399Z",
     "shell.execute_reply.started": "2021-06-28T14:30:47.836979Z"
    },
    "papermill": {
     "duration": 0.514928,
     "end_time": "2021-06-29T16:57:12.359589",
     "exception": false,
     "start_time": "2021-06-29T16:57:11.844661",
     "status": "completed"
    },
    "tags": []
   },
   "outputs": [
    {
     "data": {
      "text/plain": [
       "<seaborn.axisgrid.FacetGrid at 0x199f101cbe0>"
      ]
     },
     "execution_count": 9,
     "metadata": {},
     "output_type": "execute_result"
    },
    {
     "data": {
      "image/png": "[encoded data removed]",
      "text/plain": [
       "<Figure size 551.686x360 with 1 Axes>"
      ]
     },
     "metadata": {
      "needs_background": "light"
     },
     "output_type": "display_data"
    }
   ],
   "source": [
    "sns.catplot(\"page_rank\", hue=\"target\", data=df_data, kind=\"count\", \n",
    "            palette={1:\"green\", 0:\"blue\"} ,height=5.0, aspect=11.7/8.27 )"
   ]
  },
  {
   "cell_type": "markdown",
   "id": "minimal-october",
   "metadata": {
    "papermill": {
     "duration": 0.034332,
     "end_time": "2021-06-29T16:57:12.428169",
     "exception": false,
     "start_time": "2021-06-29T16:57:12.393837",
     "status": "completed"
    },
    "tags": []
   },
   "source": [
    "**Note:**\n",
    "\n",
    "* Aspects such has multicollinearity , variance captured by the features etc are applicable to Linear & Tree models as their performance tends to vary with these aspects.Since we are progressing with a Multi Layer Perceptron (MLP) , a neural net doesn't really care about all these transformations and raw data is what it needs to find the underlying patterns on it's own"
   ]
  },
  {
   "cell_type": "markdown",
   "id": "skilled-nickname",
   "metadata": {
    "papermill": {
     "duration": 0.032572,
     "end_time": "2021-06-29T16:57:12.495703",
     "exception": false,
     "start_time": "2021-06-29T16:57:12.463131",
     "status": "completed"
    },
    "tags": []
   },
   "source": [
    "#### Splitting dataset into Train & Test"
   ]
  },
  {
   "cell_type": "code",
   "execution_count": 10,
   "id": "satisfied-housing",
   "metadata": {
    "execution": {
     "iopub.execute_input": "2021-06-29T16:57:12.565772Z",
     "iopub.status.busy": "2021-06-29T16:57:12.564794Z",
     "iopub.status.idle": "2021-06-29T16:57:12.581485Z",
     "shell.execute_reply": "2021-06-29T16:57:12.580961Z",
     "shell.execute_reply.started": "2021-06-28T14:30:48.476186Z"
    },
    "papermill": {
     "duration": 0.053117,
     "end_time": "2021-06-29T16:57:12.581639",
     "exception": false,
     "start_time": "2021-06-29T16:57:12.528522",
     "status": "completed"
    },
    "tags": []
   },
   "outputs": [
    {
     "name": "stdout",
     "output_type": "stream",
     "text": [
      "\n",
      "--Training data samples--\n",
      "(8572, 87)\n"
     ]
    }
   ],
   "source": [
    "#Train & Test Set\n",
    "X= df_data.iloc[: , 1:-1]\n",
    "#y = upsampled_df['Churn']\n",
    "y= df_data['target']\n",
    "\n",
    "train_x,test_x,train_y,test_y = train_test_split(X,y,random_state=42)\n",
    "print(\"\\n--Training data samples--\")\n",
    "print(train_x.shape)\n"
   ]
  },
  {
   "cell_type": "markdown",
   "id": "verified-muscle",
   "metadata": {
    "papermill": {
     "duration": 0.033599,
     "end_time": "2021-06-29T16:57:12.648425",
     "exception": false,
     "start_time": "2021-06-29T16:57:12.614826",
     "status": "completed"
    },
    "tags": []
   },
   "source": [
    "### Pytorch Neural Net Model\n",
    "**Convert data into Pytorch Tensors**"
   ]
  },
  {
   "cell_type": "code",
   "execution_count": 11,
   "id": "sacred-candy",
   "metadata": {
    "execution": {
     "iopub.execute_input": "2021-06-29T16:57:12.726227Z",
     "iopub.status.busy": "2021-06-29T16:57:12.725526Z",
     "iopub.status.idle": "2021-06-29T16:57:12.823891Z",
     "shell.execute_reply": "2021-06-29T16:57:12.824539Z",
     "shell.execute_reply.started": "2021-06-28T14:30:48.506756Z"
    },
    "papermill": {
     "duration": 0.142126,
     "end_time": "2021-06-29T16:57:12.824712",
     "exception": false,
     "start_time": "2021-06-29T16:57:12.682586",
     "status": "completed"
    },
    "tags": []
   },
   "outputs": [
    {
     "name": "stdout",
     "output_type": "stream",
     "text": [
      "Scaled values of Train set \n",
      "\n",
      "[[0.0650706  0.18095238 1.         ... 0.         1.         0.        ]\n",
      " [0.04297115 0.06190476 0.         ... 0.         0.         0.6       ]\n",
      " [0.07550645 0.06190476 1.         ... 0.         0.         0.5       ]\n",
      " ...\n",
      " [0.01473297 0.07619048 0.         ... 0.         1.         0.2       ]\n",
      " [0.00859423 0.06190476 0.         ... 0.         1.         0.2       ]\n",
      " [0.02823818 0.06190476 0.         ... 0.         1.         0.5       ]]\n",
      "\n",
      "Scaled values of Test set \n",
      "\n",
      "[[0.03571429 0.04       0.         ... 0.         0.         0.5       ]\n",
      " [0.01461039 0.06285714 0.         ... 0.         0.         0.2       ]\n",
      " [0.0487013  0.06285714 0.         ... 0.         0.         1.        ]\n",
      " ...\n",
      " [0.24350649 0.08571429 0.         ... 0.         1.         0.        ]\n",
      " [0.01461039 0.06285714 0.         ... 0.         0.         0.3       ]\n",
      " [0.09577922 0.04571429 0.         ... 0.         0.         0.4       ]]\n",
      "\n",
      "Train set Tensors \n",
      "\n",
      "tensor([[0.0651, 0.1810, 1.0000,  ..., 0.0000, 1.0000, 0.0000],\n",
      "        [0.0430, 0.0619, 0.0000,  ..., 0.0000, 0.0000, 0.6000],\n",
      "        [0.0755, 0.0619, 1.0000,  ..., 0.0000, 0.0000, 0.5000],\n",
      "        ...,\n",
      "        [0.0147, 0.0762, 0.0000,  ..., 0.0000, 1.0000, 0.2000],\n",
      "        [0.0086, 0.0619, 0.0000,  ..., 0.0000, 1.0000, 0.2000],\n",
      "        [0.0282, 0.0619, 0.0000,  ..., 0.0000, 1.0000, 0.5000]])\n",
      "tensor([0., 1., 0.,  ..., 0., 0., 1.])\n",
      "\n",
      "Test set Tensors \n",
      "\n",
      "tensor([[0.0357, 0.0400, 0.0000,  ..., 0.0000, 0.0000, 0.5000],\n",
      "        [0.0146, 0.0629, 0.0000,  ..., 0.0000, 0.0000, 0.2000],\n",
      "        [0.0487, 0.0629, 0.0000,  ..., 0.0000, 0.0000, 1.0000],\n",
      "        ...,\n",
      "        [0.2435, 0.0857, 0.0000,  ..., 0.0000, 1.0000, 0.0000],\n",
      "        [0.0146, 0.0629, 0.0000,  ..., 0.0000, 0.0000, 0.3000],\n",
      "        [0.0958, 0.0457, 0.0000,  ..., 0.0000, 0.0000, 0.4000]])\n",
      "tensor([1., 1., 1.,  ..., 0., 1., 1.])\n"
     ]
    }
   ],
   "source": [
    "###First use a MinMaxscaler to scale all the features of Train & Test dataframes\n",
    "\n",
    "scaler = preprocessing.MinMaxScaler()\n",
    "x_train = scaler.fit_transform(train_x.values)\n",
    "x_test =  scaler.fit_transform(test_x.values)\n",
    "\n",
    "print(\"Scaled values of Train set \\n\")\n",
    "print(x_train)\n",
    "print(\"\\nScaled values of Test set \\n\")\n",
    "print(x_test)\n",
    "\n",
    "\n",
    "###Then convert the Train and Test sets into Tensors\n",
    "\n",
    "x_tensor =  torch.from_numpy(x_train).float()\n",
    "y_tensor =  torch.from_numpy(train_y.values.ravel()).float()\n",
    "xtest_tensor =  torch.from_numpy(x_test).float()\n",
    "ytest_tensor =  torch.from_numpy(test_y.values.ravel()).float()\n",
    "\n",
    "print(\"\\nTrain set Tensors \\n\")\n",
    "print(x_tensor)\n",
    "print(y_tensor)\n",
    "print(\"\\nTest set Tensors \\n\")\n",
    "print(xtest_tensor)\n",
    "print(ytest_tensor)"
   ]
  },
  {
   "cell_type": "markdown",
   "id": "authentic-sequence",
   "metadata": {
    "papermill": {
     "duration": 0.033372,
     "end_time": "2021-06-29T16:57:12.891967",
     "exception": false,
     "start_time": "2021-06-29T16:57:12.858595",
     "status": "completed"
    },
    "tags": []
   },
   "source": [
    "### DataLoader to pass the data in batches to the model"
   ]
  },
  {
   "cell_type": "code",
   "execution_count": 12,
   "id": "universal-plate",
   "metadata": {
    "execution": {
     "iopub.execute_input": "2021-06-29T16:57:12.968395Z",
     "iopub.status.busy": "2021-06-29T16:57:12.967724Z",
     "iopub.status.idle": "2021-06-29T16:57:12.971821Z",
     "shell.execute_reply": "2021-06-29T16:57:12.971208Z",
     "shell.execute_reply.started": "2021-06-28T14:30:48.567945Z"
    },
    "papermill": {
     "duration": 0.044329,
     "end_time": "2021-06-29T16:57:12.971954",
     "exception": false,
     "start_time": "2021-06-29T16:57:12.927625",
     "status": "completed"
    },
    "tags": []
   },
   "outputs": [],
   "source": [
    "#Define a batch size , \n",
    "bs = 64\n",
    "#Both x_train and y_train can be combined in a single TensorDataset, which will be easier to iterate over and slice\n",
    "y_tensor = y_tensor.unsqueeze(1)\n",
    "train_ds = TensorDataset(x_tensor, y_tensor)\n",
    "#Pytorch’s DataLoader is responsible for managing batches. \n",
    "#You can create a DataLoader from any Dataset. DataLoader makes it easier to iterate over batches\n",
    "train_dl = DataLoader(train_ds, batch_size=bs)\n",
    "\n",
    "\n",
    "#For the validation/test dataset\n",
    "ytest_tensor = ytest_tensor.unsqueeze(1)\n",
    "test_ds = TensorDataset(xtest_tensor, ytest_tensor)\n",
    "test_loader = DataLoader(test_ds, batch_size=32)"
   ]
  },
  {
   "cell_type": "markdown",
   "id": "thick-enzyme",
   "metadata": {
    "papermill": {
     "duration": 0.033828,
     "end_time": "2021-06-29T16:57:13.039693",
     "exception": false,
     "start_time": "2021-06-29T16:57:13.005865",
     "status": "completed"
    },
    "tags": []
   },
   "source": [
    "### MLP (Model)\n",
    "Define the Layers , Activation function , Number of nodes for the MultiLayerPerceptron\n",
    "\n",
    "#### Structure of MLP\n",
    "\n",
    "* 2 Hidden Layers\n",
    "* Normalizing the batch data usign batchnorm in between each layer\n",
    "* Using ReLU Activation function between the layers\n",
    "* Using dropout before sending to output\n",
    "* Sigmoid at the output layer to make probabilities between 0 to 1"
   ]
  },
  {
   "cell_type": "code",
   "execution_count": 13,
   "id": "annoying-thinking",
   "metadata": {
    "execution": {
     "iopub.execute_input": "2021-06-29T16:57:13.119121Z",
     "iopub.status.busy": "2021-06-29T16:57:13.118367Z",
     "iopub.status.idle": "2021-06-29T16:57:13.134684Z",
     "shell.execute_reply": "2021-06-29T16:57:13.135657Z",
     "shell.execute_reply.started": "2021-06-28T14:30:48.577853Z"
    },
    "papermill": {
     "duration": 0.060997,
     "end_time": "2021-06-29T16:57:13.135949",
     "exception": false,
     "start_time": "2021-06-29T16:57:13.074952",
     "status": "completed"
    },
    "tags": []
   },
   "outputs": [
    {
     "name": "stdout",
     "output_type": "stream",
     "text": [
      "ChurnModel(\n",
      "  (layer_1): Linear(in_features=87, out_features=300, bias=True)\n",
      "  (layer_2): Linear(in_features=300, out_features=100, bias=True)\n",
      "  (layer_out): Linear(in_features=100, out_features=1, bias=True)\n",
      "  (relu): ReLU()\n",
      "  (sigmoid): Sigmoid()\n",
      "  (dropout): Dropout(p=0.1, inplace=False)\n",
      "  (batchnorm1): BatchNorm1d(300, eps=1e-05, momentum=0.1, affine=True, track_running_stats=True)\n",
      "  (batchnorm2): BatchNorm1d(100, eps=1e-05, momentum=0.1, affine=True, track_running_stats=True)\n",
      ")\n"
     ]
    }
   ],
   "source": [
    "n_input_dim = train_x.shape[1]\n",
    "\n",
    "#Layer size\n",
    "n_hidden1 = 300  # Number of hidden nodes\n",
    "n_hidden2 = 100\n",
    "n_output =  1   # Number of output nodes = for binary classifier\n",
    "\n",
    "\n",
    "class ChurnModel(nn.Module):\n",
    "    def __init__(self):\n",
    "        super(ChurnModel, self).__init__()\n",
    "        self.layer_1 = nn.Linear(n_input_dim, n_hidden1) \n",
    "        self.layer_2 = nn.Linear(n_hidden1, n_hidden2)\n",
    "        self.layer_out = nn.Linear(n_hidden2, n_output) \n",
    "        \n",
    "        \n",
    "        self.relu = nn.ReLU()\n",
    "        self.sigmoid =  nn.Sigmoid()\n",
    "        self.dropout = nn.Dropout(p=0.1)\n",
    "        self.batchnorm1 = nn.BatchNorm1d(n_hidden1)\n",
    "        self.batchnorm2 = nn.BatchNorm1d(n_hidden2)\n",
    "        \n",
    "        \n",
    "    def forward(self, inputs):\n",
    "        x = self.relu(self.layer_1(inputs))\n",
    "        x = self.batchnorm1(x)\n",
    "        x = self.relu(self.layer_2(x))\n",
    "        x = self.batchnorm2(x)\n",
    "        x = self.dropout(x)\n",
    "        x = self.sigmoid(self.layer_out(x))\n",
    "        \n",
    "        return x\n",
    "    \n",
    "\n",
    "model = ChurnModel()\n",
    "print(model)"
   ]
  },
  {
   "cell_type": "markdown",
   "id": "metropolitan-harvard",
   "metadata": {
    "papermill": {
     "duration": 0.033581,
     "end_time": "2021-06-29T16:57:13.204681",
     "exception": false,
     "start_time": "2021-06-29T16:57:13.171100",
     "status": "completed"
    },
    "tags": []
   },
   "source": [
    "#### Defining parameters (pretty much standard setting for Binary class problem)\n",
    "* Loss computation function : Here using Binary Cross Entropy (BCE) which is defacto for Binary class problems\n",
    "* Learning rate : Setting as 0.001 (can be optimized further)\n",
    "* Optimizer : Using Adam and\n",
    "* Epochs of Training : setting as 50"
   ]
  },
  {
   "cell_type": "code",
   "execution_count": 14,
   "id": "canadian-brighton",
   "metadata": {
    "execution": {
     "iopub.execute_input": "2021-06-29T16:57:13.275687Z",
     "iopub.status.busy": "2021-06-29T16:57:13.275074Z",
     "iopub.status.idle": "2021-06-29T16:57:13.279755Z",
     "shell.execute_reply": "2021-06-29T16:57:13.280331Z",
     "shell.execute_reply.started": "2021-06-28T14:30:48.60527Z"
    },
    "papermill": {
     "duration": 0.04192,
     "end_time": "2021-06-29T16:57:13.280521",
     "exception": false,
     "start_time": "2021-06-29T16:57:13.238601",
     "status": "completed"
    },
    "tags": []
   },
   "outputs": [],
   "source": [
    "#Loss Computation\n",
    "loss_func = nn.BCELoss()\n",
    "#Optimizer\n",
    "learning_rate = 0.001\n",
    "optimizer = torch.optim.Adam(model.parameters(), lr=learning_rate)\n",
    "epochs = 50"
   ]
  },
  {
   "cell_type": "markdown",
   "id": "homeless-reasoning",
   "metadata": {
    "papermill": {
     "duration": 0.033997,
     "end_time": "2021-06-29T16:57:13.349801",
     "exception": false,
     "start_time": "2021-06-29T16:57:13.315804",
     "status": "completed"
    },
    "tags": []
   },
   "source": [
    "### Training the MLP Model\n",
    "NN Steps flow\n",
    "\n",
    "* Forward Propagation\n",
    "* Loss computation\n",
    "* Backpropagation\n",
    "* Updating the parameters"
   ]
  },
  {
   "cell_type": "code",
   "execution_count": 15,
   "id": "annual-hazard",
   "metadata": {
    "execution": {
     "iopub.execute_input": "2021-06-29T16:57:13.427020Z",
     "iopub.status.busy": "2021-06-29T16:57:13.426314Z",
     "iopub.status.idle": "2021-06-29T16:58:07.303663Z",
     "shell.execute_reply": "2021-06-29T16:58:07.304180Z",
     "shell.execute_reply.started": "2021-06-28T14:30:48.613614Z"
    },
    "papermill": {
     "duration": 53.920271,
     "end_time": "2021-06-29T16:58:07.304364",
     "exception": false,
     "start_time": "2021-06-29T16:57:13.384093",
     "status": "completed"
    },
    "tags": []
   },
   "outputs": [
    {
     "name": "stdout",
     "output_type": "stream",
     "text": [
      "Last iteration loss value: 2.293983743584249e-05\n"
     ]
    }
   ],
   "source": [
    "model.train()\n",
    "train_loss = []\n",
    "for epoch in range(epochs):\n",
    "    #Within each epoch run the subsets of data = batch sizes.\n",
    "    for xb, yb in train_dl:\n",
    "        y_pred = model(xb)            # Forward Propagation\n",
    "        loss = loss_func(y_pred, yb)  # Loss Computation\n",
    "        optimizer.zero_grad()         # Clearing all previous gradients, setting to zero \n",
    "        loss.backward()               # Back Propagation\n",
    "        optimizer.step()              # Updating the parameters \n",
    "    #print(\"Loss in iteration :\"+str(epoch)+\" is: \"+str(loss.item()))\n",
    "    train_loss.append(loss.item())\n",
    "print('Last iteration loss value: '+str(loss.item()))"
   ]
  },
  {
   "cell_type": "markdown",
   "id": "threatened-parcel",
   "metadata": {
    "papermill": {
     "duration": 0.033852,
     "end_time": "2021-06-29T16:58:07.372428",
     "exception": false,
     "start_time": "2021-06-29T16:58:07.338576",
     "status": "completed"
    },
    "tags": []
   },
   "source": [
    "**Plotting the loss shows that model pretty much stabilized after 30 epochs itself**"
   ]
  },
  {
   "cell_type": "code",
   "execution_count": 16,
   "id": "swedish-allergy",
   "metadata": {
    "execution": {
     "iopub.execute_input": "2021-06-29T16:58:07.444788Z",
     "iopub.status.busy": "2021-06-29T16:58:07.443812Z",
     "iopub.status.idle": "2021-06-29T16:58:07.581620Z",
     "shell.execute_reply": "2021-06-29T16:58:07.582181Z",
     "shell.execute_reply.started": "2021-06-28T14:31:44.688274Z"
    },
    "papermill": {
     "duration": 0.175739,
     "end_time": "2021-06-29T16:58:07.582359",
     "exception": false,
     "start_time": "2021-06-29T16:58:07.406620",
     "status": "completed"
    },
    "tags": []
   },
   "outputs": [
    {
     "data": {
      "image/png": "[encoded data removed]",
      "text/plain": [
       "<Figure size 432x288 with 1 Axes>"
      ]
     },
     "metadata": {
      "needs_background": "light"
     },
     "output_type": "display_data"
    }
   ],
   "source": [
    "plt.plot(train_loss)\n",
    "plt.show()"
   ]
  },
  {
   "cell_type": "markdown",
   "id": "defensive-evans",
   "metadata": {
    "papermill": {
     "duration": 0.035199,
     "end_time": "2021-06-29T16:58:07.653394",
     "exception": false,
     "start_time": "2021-06-29T16:58:07.618195",
     "status": "completed"
    },
    "tags": []
   },
   "source": [
    "#### Test Dataset prediction on trained NN"
   ]
  },
  {
   "cell_type": "code",
   "execution_count": 17,
   "id": "smoking-oakland",
   "metadata": {
    "execution": {
     "iopub.execute_input": "2021-06-29T16:58:07.727851Z",
     "iopub.status.busy": "2021-06-29T16:58:07.726862Z",
     "iopub.status.idle": "2021-06-29T16:58:07.814527Z",
     "shell.execute_reply": "2021-06-29T16:58:07.815097Z",
     "shell.execute_reply.started": "2021-06-28T14:31:44.910091Z"
    },
    "papermill": {
     "duration": 0.126576,
     "end_time": "2021-06-29T16:58:07.815326",
     "exception": false,
     "start_time": "2021-06-29T16:58:07.688750",
     "status": "completed"
    },
    "tags": []
   },
   "outputs": [],
   "source": [
    "import itertools\n",
    "\n",
    "y_pred_list = []\n",
    "model.eval()\n",
    "#Since we don't need model to back propagate the gradients in test set we use torch.no_grad()\n",
    "# reduces memory usage and speeds up computation\n",
    "with torch.no_grad():\n",
    "    for xb_test,yb_test  in test_loader:\n",
    "        y_test_pred = model(xb_test)\n",
    "        y_pred_tag = torch.round(y_test_pred)\n",
    "        y_pred_list.append(y_pred_tag.detach().numpy())\n",
    "\n",
    "#Takes arrays and makes them list of list for each batch        \n",
    "y_pred_list = [a.squeeze().tolist() for a in y_pred_list]\n",
    "#flattens the lists in sequence\n",
    "ytest_pred = list(itertools.chain.from_iterable(y_pred_list))"
   ]
  },
  {
   "cell_type": "markdown",
   "id": "focused-behavior",
   "metadata": {
    "papermill": {
     "duration": 0.035462,
     "end_time": "2021-06-29T16:58:07.888430",
     "exception": false,
     "start_time": "2021-06-29T16:58:07.852968",
     "status": "completed"
    },
    "tags": []
   },
   "source": [
    "#### Metrics that matter\n",
    "\n",
    "* Precision\n",
    "* Recall\n",
    "* F1 Score\n",
    "* Confusion Matrix"
   ]
  },
  {
   "cell_type": "code",
   "execution_count": 18,
   "id": "fantastic-firewall",
   "metadata": {
    "execution": {
     "iopub.execute_input": "2021-06-29T16:58:07.962429Z",
     "iopub.status.busy": "2021-06-29T16:58:07.961714Z",
     "iopub.status.idle": "2021-06-29T16:58:07.997593Z",
     "shell.execute_reply": "2021-06-29T16:58:07.998093Z",
     "shell.execute_reply.started": "2021-06-28T14:31:44.98597Z"
    },
    "papermill": {
     "duration": 0.074478,
     "end_time": "2021-06-29T16:58:07.998264",
     "exception": false,
     "start_time": "2021-06-29T16:58:07.923786",
     "status": "completed"
    },
    "tags": []
   },
   "outputs": [
    {
     "name": "stdout",
     "output_type": "stream",
     "text": [
      "Confusion Matrix of the Test Set\n",
      "-----------\n",
      "[[1399   37]\n",
      " [ 114 1308]]\n",
      "Precision of the MLP :\t0.9724907063197026\n",
      "Recall of the MLP    :\t0.919831223628692\n",
      "F1 Score of the Model :\t0.9454282616552221\n"
     ]
    }
   ],
   "source": [
    "y_true_test = test_y.values.ravel()\n",
    "conf_matrix = confusion_matrix(y_true_test ,ytest_pred)\n",
    "print(\"Confusion Matrix of the Test Set\")\n",
    "print(\"-----------\")\n",
    "print(conf_matrix)\n",
    "print(\"Precision of the MLP :\\t\"+str(precision_score(y_true_test,ytest_pred)))\n",
    "print(\"Recall of the MLP    :\\t\"+str(recall_score(y_true_test,ytest_pred)))\n",
    "print(\"F1 Score of the Model :\\t\"+str(f1_score(y_true_test,ytest_pred)))"
   ]
  },
  {
   "cell_type": "markdown",
   "id": "destroyed-fields",
   "metadata": {
    "papermill": {
     "duration": 0.03571,
     "end_time": "2021-06-29T16:58:08.069129",
     "exception": false,
     "start_time": "2021-06-29T16:58:08.033419",
     "status": "completed"
    },
    "tags": []
   },
   "source": [
    "So here we used a Neural Net for a Tabular data classification problem and got pretty good performance."
   ]
  }
 ],
 "metadata": {
  "kernelspec": {
   "display_name": "Python 3",
   "language": "python",
   "name": "python3"
  },
  "language_info": {
   "codemirror_mode": {
    "name": "ipython",
    "version": 3
   },
   "file_extension": ".py",
   "mimetype": "text/x-python",
   "name": "python",
   "nbconvert_exporter": "python",
   "pygments_lexer": "ipython3",
   "version": "3.8.8"
  },
  "papermill": {
   "default_parameters": {},
   "duration": 70.471864,
   "end_time": "2021-06-29T16:58:08.914280",
   "environment_variables": {},
   "exception": null,
   "input_path": "__notebook__.ipynb",
   "output_path": "__notebook__.ipynb",
   "parameters": {},
   "start_time": "2021-06-29T16:56:58.442416",
   "version": "2.3.3"
  }
 },
 "nbformat": 4,
 "nbformat_minor": 5
}
